{
  "nbformat": 4,
  "nbformat_minor": 0,
  "metadata": {
    "colab": {
      "name": "face_emotions.ipynb",
      "provenance": [],
      "collapsed_sections": [],
      "toc_visible": true,
      "authorship_tag": "ABX9TyNobtvaSN6lYbhijFqOeAop",
      "include_colab_link": true
    },
    "kernelspec": {
      "name": "python3",
      "display_name": "Python 3"
    },
    "language_info": {
      "name": "python"
    }
  },
  "cells": [
    {
      "cell_type": "markdown",
      "metadata": {
        "id": "view-in-github",
        "colab_type": "text"
      },
      "source": [
        "<a href=\"https://colab.research.google.com/github/grahul64/face_emotions/blob/main/face_emotions.ipynb\" target=\"_parent\"><img src=\"https://colab.research.google.com/assets/colab-badge.svg\" alt=\"Open In Colab\"/></a>"
      ]
    },
    {
      "cell_type": "code",
      "metadata": {
        "colab": {
          "base_uri": "https://localhost:8080/"
        },
        "id": "Ui6ESCMDguVL",
        "outputId": "b586a2c9-cdd7-4de6-e645-ea96b8d122db"
      },
      "source": [
        "# ! rm -rf *.zip *.gz model* emo*\n",
        "# ! wget -O onnx_model.zip https://github.com/onnx/models/archive/refs/heads/master.zip\n",
        "! wget -O onnx_mod2.tar.gz https://github.com/onnx/models/raw/master/vision/body_analysis/emotion_ferplus/model/emotion-ferplus-8.tar.gz\n",
        "# ! unzip onnx_model.zip\n",
        "! tar -xzvf onnx_mod2.tar.gz"
      ],
      "execution_count": 1,
      "outputs": [
        {
          "output_type": "stream",
          "text": [
            "--2021-05-24 14:48:25--  https://github.com/onnx/models/raw/master/vision/body_analysis/emotion_ferplus/model/emotion-ferplus-8.tar.gz\n",
            "Resolving github.com (github.com)... 140.82.112.4\n",
            "Connecting to github.com (github.com)|140.82.112.4|:443... connected.\n",
            "HTTP request sent, awaiting response... 302 Found\n",
            "Location: https://media.githubusercontent.com/media/onnx/models/master/vision/body_analysis/emotion_ferplus/model/emotion-ferplus-8.tar.gz [following]\n",
            "--2021-05-24 14:48:26--  https://media.githubusercontent.com/media/onnx/models/master/vision/body_analysis/emotion_ferplus/model/emotion-ferplus-8.tar.gz\n",
            "Resolving media.githubusercontent.com (media.githubusercontent.com)... 185.199.111.133, 185.199.108.133, 185.199.109.133, ...\n",
            "Connecting to media.githubusercontent.com (media.githubusercontent.com)|185.199.111.133|:443... connected.\n",
            "HTTP request sent, awaiting response... 200 OK\n",
            "Length: 32384491 (31M) [application/octet-stream]\n",
            "Saving to: ‘onnx_mod2.tar.gz’\n",
            "\n",
            "onnx_mod2.tar.gz    100%[===================>]  30.88M  37.9MB/s    in 0.8s    \n",
            "\n",
            "2021-05-24 14:48:27 (37.9 MB/s) - ‘onnx_mod2.tar.gz’ saved [32384491/32384491]\n",
            "\n",
            "emotion_ferplus/\n",
            "emotion_ferplus/model.onnx\n",
            "emotion_ferplus/test_data_set_0/\n",
            "emotion_ferplus/test_data_set_0/input_0.pb\n",
            "emotion_ferplus/test_data_set_0/output_0.pb\n",
            "emotion_ferplus/test_data_set_1/\n",
            "emotion_ferplus/test_data_set_1/input_0.pb\n",
            "emotion_ferplus/test_data_set_1/output_0.pb\n",
            "emotion_ferplus/test_data_set_2/\n",
            "emotion_ferplus/test_data_set_2/input_0.pb\n",
            "emotion_ferplus/test_data_set_2/output_0.pb\n"
          ],
          "name": "stdout"
        }
      ]
    },
    {
      "cell_type": "code",
      "metadata": {
        "colab": {
          "base_uri": "https://localhost:8080/"
        },
        "id": "AfhGZxengvg_",
        "outputId": "0650f7ee-86c1-43b9-fd18-cdb717e13cdf"
      },
      "source": [
        "!ls -lh\n",
        "! pip install onnx\n",
        "! pip install onnx_tf"
      ],
      "execution_count": 2,
      "outputs": [
        {
          "output_type": "stream",
          "text": [
            "total 31M\n",
            "drwxrwxrwx 5 root root 4.0K Sep 24  2018 emotion_ferplus\n",
            "-rw-r--r-- 1 root root  31M May 24 14:48 onnx_mod2.tar.gz\n",
            "drwxr-xr-x 1 root root 4.0K May  6 13:44 sample_data\n",
            "Collecting onnx\n",
            "\u001b[?25l  Downloading https://files.pythonhosted.org/packages/3f/9b/54c950d3256e27f970a83cd0504efb183a24312702deed0179453316dbd0/onnx-1.9.0-cp37-cp37m-manylinux2010_x86_64.whl (12.2MB)\n",
            "\u001b[K     |████████████████████████████████| 12.2MB 4.0MB/s \n",
            "\u001b[?25hRequirement already satisfied: six in /usr/local/lib/python3.7/dist-packages (from onnx) (1.15.0)\n",
            "Requirement already satisfied: numpy>=1.16.6 in /usr/local/lib/python3.7/dist-packages (from onnx) (1.19.5)\n",
            "Requirement already satisfied: protobuf in /usr/local/lib/python3.7/dist-packages (from onnx) (3.12.4)\n",
            "Requirement already satisfied: typing-extensions>=3.6.2.1 in /usr/local/lib/python3.7/dist-packages (from onnx) (3.7.4.3)\n",
            "Requirement already satisfied: setuptools in /usr/local/lib/python3.7/dist-packages (from protobuf->onnx) (56.1.0)\n",
            "Installing collected packages: onnx\n",
            "Successfully installed onnx-1.9.0\n",
            "Collecting onnx_tf\n",
            "\u001b[?25l  Downloading https://files.pythonhosted.org/packages/ac/24/68207818c961d078cb41bbcd149ee8627684911b2bc8f2acd0ae17689da2/onnx_tf-1.8.0-py3-none-any.whl (219kB)\n",
            "\u001b[K     |████████████████████████████████| 225kB 3.9MB/s \n",
            "\u001b[?25hCollecting tensorflow-addons\n",
            "\u001b[?25l  Downloading https://files.pythonhosted.org/packages/66/4b/e893d194e626c24b3df2253066aa418f46a432fdb68250cde14bf9bb0700/tensorflow_addons-0.13.0-cp37-cp37m-manylinux2010_x86_64.whl (679kB)\n",
            "\u001b[K     |████████████████████████████████| 686kB 36.9MB/s \n",
            "\u001b[?25hRequirement already satisfied: PyYAML in /usr/local/lib/python3.7/dist-packages (from onnx_tf) (3.13)\n",
            "Requirement already satisfied: onnx>=1.8.0 in /usr/local/lib/python3.7/dist-packages (from onnx_tf) (1.9.0)\n",
            "Requirement already satisfied: typeguard>=2.7 in /usr/local/lib/python3.7/dist-packages (from tensorflow-addons->onnx_tf) (2.7.1)\n",
            "Requirement already satisfied: numpy>=1.16.6 in /usr/local/lib/python3.7/dist-packages (from onnx>=1.8.0->onnx_tf) (1.19.5)\n",
            "Requirement already satisfied: typing-extensions>=3.6.2.1 in /usr/local/lib/python3.7/dist-packages (from onnx>=1.8.0->onnx_tf) (3.7.4.3)\n",
            "Requirement already satisfied: six in /usr/local/lib/python3.7/dist-packages (from onnx>=1.8.0->onnx_tf) (1.15.0)\n",
            "Requirement already satisfied: protobuf in /usr/local/lib/python3.7/dist-packages (from onnx>=1.8.0->onnx_tf) (3.12.4)\n",
            "Requirement already satisfied: setuptools in /usr/local/lib/python3.7/dist-packages (from protobuf->onnx>=1.8.0->onnx_tf) (56.1.0)\n",
            "Installing collected packages: tensorflow-addons, onnx-tf\n",
            "Successfully installed onnx-tf-1.8.0 tensorflow-addons-0.13.0\n"
          ],
          "name": "stdout"
        }
      ]
    },
    {
      "cell_type": "code",
      "metadata": {
        "id": "A6qsYF1om8yl"
      },
      "source": [
        "# model prepration"
      ],
      "execution_count": 3,
      "outputs": []
    },
    {
      "cell_type": "code",
      "metadata": {
        "id": "vEO7roHifrOU"
      },
      "source": [
        "import numpy as np\n",
        "import onnx\n",
        "import os\n",
        "import glob\n",
        "import onnx_tf.backend as backend\n",
        "\n",
        "from onnx import numpy_helper\n",
        "\n",
        "model = onnx.load('emotion_ferplus/model.onnx')\n",
        "test_data_dir = 'emotion_ferplus/test_data_set_0'\n",
        "\n",
        "# Load inputs\n",
        "inputs = []\n",
        "inputs_num = len(glob.glob(os.path.join(test_data_dir, 'input_*.pb')))\n",
        "for i in range(inputs_num):\n",
        "    input_file = os.path.join(test_data_dir, 'input_{}.pb'.format(i))\n",
        "    tensor = onnx.TensorProto()\n",
        "    with open(input_file, 'rb') as f:\n",
        "        tensor.ParseFromString(f.read())\n",
        "    inputs.append(numpy_helper.to_array(tensor))\n",
        "\n",
        "# Load reference outputs\n",
        "ref_outputs = []\n",
        "ref_outputs_num = len(glob.glob(os.path.join(test_data_dir, 'output_*.pb')))\n",
        "for i in range(ref_outputs_num):\n",
        "    output_file = os.path.join(test_data_dir, 'output_{}.pb'.format(i))\n",
        "    tensor = onnx.TensorProto()\n",
        "    with open(output_file, 'rb') as f:\n",
        "        tensor.ParseFromString(f.read())\n",
        "    ref_outputs.append(numpy_helper.to_array(tensor))\n",
        "\n",
        "# Run the model on the backend\n",
        "outputs = list(backend.run_model(model, inputs))\n",
        "\n",
        "# Compare the results with reference outputs.\n",
        "for ref_o, o in zip(ref_outputs, outputs):\n",
        "    np.testing.assert_almost_equal(ref_o, o, decimal=5)"
      ],
      "execution_count": 6,
      "outputs": []
    },
    {
      "cell_type": "code",
      "metadata": {
        "id": "khEhJuXc6Qpe"
      },
      "source": [
        "import numpy as np\n",
        "from PIL import Image\n",
        "\n",
        "def preprocess(image_path):\n",
        "  input_shape = (1, 1, 64, 64)\n",
        "  img = Image.open(image_path)\n",
        "  img = img.resize((64, 64), Image.ANTIALIAS)\n",
        "  img_data = np.array(img)\n",
        "  img_data = np.resize(img_data, input_shape).astype(np.float32)\n",
        "  return img_data"
      ],
      "execution_count": 19,
      "outputs": []
    },
    {
      "cell_type": "code",
      "metadata": {
        "colab": {
          "base_uri": "https://localhost:8080/"
        },
        "id": "xydVD3K38fd1",
        "outputId": "d0c9041e-2cf5-4ba6-c706-9f2a9336cb9e"
      },
      "source": [
        "inputs[0].shape, inputs[0]"
      ],
      "execution_count": 17,
      "outputs": [
        {
          "output_type": "execute_result",
          "data": {
            "text/plain": [
              "((1, 1, 64, 64), array([[[[245., 241., 254., ..., 248., 248., 248.],\n",
              "          [243., 248., 250., ..., 248., 248., 248.],\n",
              "          [239., 255., 229., ..., 248., 248., 248.],\n",
              "          ...,\n",
              "          [162., 160., 160., ..., 139., 125., 111.],\n",
              "          [158., 157., 157., ..., 128., 114., 103.],\n",
              "          [158., 158., 155., ..., 117., 110., 103.]]]], dtype=float32))"
            ]
          },
          "metadata": {
            "tags": []
          },
          "execution_count": 17
        }
      ]
    },
    {
      "cell_type": "code",
      "metadata": {
        "colab": {
          "base_uri": "https://localhost:8080/"
        },
        "id": "xe73P-NQ8vGx",
        "outputId": "a5e01c51-a094-4f2c-cad7-bcfa63b40a3e"
      },
      "source": [
        "preprocess(\"sample_1.jpg\").shape, preprocess(\"sample_1.jpg\")"
      ],
      "execution_count": 20,
      "outputs": [
        {
          "output_type": "execute_result",
          "data": {
            "text/plain": [
              "((1, 1, 64, 64), array([[[[195., 196., 162., ...,  80.,  10.,  48.],\n",
              "          [ 68.,  12.,  45., ...,  89.,  94., 120.],\n",
              "          [ 36., 117., 149., ...,  40.,  57.,  23.],\n",
              "          ...,\n",
              "          [176., 113., 219., ..., 206., 255., 255.],\n",
              "          [246., 249., 249., ..., 235., 240., 210.],\n",
              "          [245., 248., 220., ..., 198., 156., 236.]]]], dtype=float32))"
            ]
          },
          "metadata": {
            "tags": []
          },
          "execution_count": 20
        }
      ]
    },
    {
      "cell_type": "code",
      "metadata": {
        "colab": {
          "base_uri": "https://localhost:8080/"
        },
        "id": "iQyeWJTM6S1k",
        "outputId": "f17f835f-b828-465e-aad9-9ad119fb01ab"
      },
      "source": [
        "list(backend.run_model(model, [preprocess(\"sample_1.jpg\")]))"
      ],
      "execution_count": 21,
      "outputs": [
        {
          "output_type": "execute_result",
          "data": {
            "text/plain": [
              "[array([[ 3.1341343 ,  2.0936706 ,  1.1324986 ,  0.5268612 ,  0.85911316,\n",
              "         -2.5806823 , -1.9725503 , -2.656064  ]], dtype=float32)]"
            ]
          },
          "metadata": {
            "tags": []
          },
          "execution_count": 21
        }
      ]
    },
    {
      "cell_type": "code",
      "metadata": {
        "id": "Z1rAReJU6QsW"
      },
      "source": [
        "import numpy as np\n",
        "emotion_table = {'neutral':0, 'happiness':1, 'surprise':2, 'sadness':3, 'anger':4, 'disgust':5, 'fear':6, 'contempt':7}\n",
        "rev_dict = {k:v for v,k in emotion_table.items()}\n",
        "\n",
        "def softmax(scores):\n",
        "  # your softmax function\n",
        "  return 1/(1 + np.exp(-np.array(scores)))\n",
        "\n",
        "def postprocess(scores):\n",
        "  '''\n",
        "  This function takes the scores generated by the network and returns the class IDs in decreasing\n",
        "  order of probability.\n",
        "  '''\n",
        "  prob = softmax(scores)\n",
        "  prob = np.squeeze(prob)\n",
        "  classes = np.argsort(prob)[::-1]\n",
        "  # print(classes)\n",
        "  return classes, prob, scores"
      ],
      "execution_count": 42,
      "outputs": []
    },
    {
      "cell_type": "code",
      "metadata": {
        "colab": {
          "base_uri": "https://localhost:8080/"
        },
        "id": "oR_62cnp-KMN",
        "outputId": "7d8f3993-937e-4b9a-e898-9b5c22fd8231"
      },
      "source": [
        "c, p, s = postprocess(list(backend.run_model(model, [preprocess(\"sample_1.jpg\")])))\n",
        "c,p, s"
      ],
      "execution_count": 43,
      "outputs": [
        {
          "output_type": "stream",
          "text": [
            "WARNING:tensorflow:11 out of the last 11 calls to <function BackendTFModule.__call__ at 0x7f2f3ae575f0> triggered tf.function retracing. Tracing is expensive and the excessive number of tracings could be due to (1) creating @tf.function repeatedly in a loop, (2) passing tensors with different shapes, (3) passing Python objects instead of tensors. For (1), please define your @tf.function outside of the loop. For (2), @tf.function has experimental_relax_shapes=True option that relaxes argument shapes that can avoid unnecessary retracing. For (3), please refer to https://www.tensorflow.org/guide/function#controlling_retracing and https://www.tensorflow.org/api_docs/python/tf/function for  more details.\n"
          ],
          "name": "stdout"
        },
        {
          "output_type": "execute_result",
          "data": {
            "text/plain": [
              "(array([0, 1, 2, 4, 3, 6, 5, 7]),\n",
              " array([0.958279  , 0.8902865 , 0.75629973, 0.62875074, 0.70247537,\n",
              "        0.07039206, 0.12211525, 0.06561624], dtype=float32),\n",
              " [array([[ 3.1341343 ,  2.0936706 ,  1.1324986 ,  0.5268612 ,  0.85911316,\n",
              "          -2.5806823 , -1.9725503 , -2.656064  ]], dtype=float32)])"
            ]
          },
          "metadata": {
            "tags": []
          },
          "execution_count": 43
        }
      ]
    },
    {
      "cell_type": "code",
      "metadata": {
        "colab": {
          "base_uri": "https://localhost:8080/",
          "height": 35
        },
        "id": "Zcj_J9V5BQRS",
        "outputId": "a7f052ad-6360-4205-f964-9d1bca7a5b94"
      },
      "source": [
        "rev_dict[c[0]]"
      ],
      "execution_count": 39,
      "outputs": [
        {
          "output_type": "execute_result",
          "data": {
            "application/vnd.google.colaboratory.intrinsic+json": {
              "type": "string"
            },
            "text/plain": [
              "'neutral'"
            ]
          },
          "metadata": {
            "tags": []
          },
          "execution_count": 39
        }
      ]
    },
    {
      "cell_type": "code",
      "metadata": {
        "id": "SOkginKCmHOo"
      },
      "source": [
        "# # model.SerializeToString()\n",
        "# with open(\"model_params.txt\", \"wb\") as f:\n",
        "#     f.write(model.SerializeToString())"
      ],
      "execution_count": 7,
      "outputs": []
    },
    {
      "cell_type": "code",
      "metadata": {
        "id": "Q28E5Y6vwlR4"
      },
      "source": [
        "# import skl2onnx\n",
        "# import onnxruntime\n",
        "# import sklearn\n",
        "# import numpy\n",
        "# import matplotlib.pyplot as plt\n",
        "# import os\n",
        "# from onnx.tools.net_drawer import GetPydotGraph, GetOpNodeProducer\n",
        "# from onnx import ModelProto, __version__ as onnx_version\n",
        "\n",
        "# from skl2onnx.algebra.onnx_ops import OnnxAdd, OnnxMul\n",
        "\n",
        "# onnx_fct = OnnxAdd(OnnxMul('X', numpy.array([2], dtype=numpy.float32)),\n",
        "#                    numpy.array([[1, 0], [0, 1]], dtype=numpy.float32),\n",
        "#                    output_names=['Y'])\n",
        "\n",
        "# X = numpy.array([[4, 6], [-2, 3]], dtype=numpy.float32)\n",
        "# model = onnx_fct.to_onnx({'X': X})\n",
        "# print(model)\n",
        "\n",
        "# filename = \"emotion_ferplus/model.onnx\"\n",
        "# with open(filename, \"wb\") as f:\n",
        "#     f.write(model.SerializeToString())"
      ],
      "execution_count": 8,
      "outputs": []
    },
    {
      "cell_type": "code",
      "metadata": {
        "colab": {
          "base_uri": "https://localhost:8080/"
        },
        "id": "hbW5SYGGzul-",
        "outputId": "16d90e5d-522a-47fd-92e5-2d453d8abb6a"
      },
      "source": [
        "! pip install skl2onnx\n",
        "! pip install onnxruntime\n",
        "! pip install opencv-python"
      ],
      "execution_count": 44,
      "outputs": [
        {
          "output_type": "stream",
          "text": [
            "Collecting skl2onnx\n",
            "\u001b[?25l  Downloading https://files.pythonhosted.org/packages/2e/2e/efe7874c6b92ce4dd262b58a2860e9bf50097c68588114a542b29affca46/skl2onnx-1.8.0-py2.py3-none-any.whl (230kB)\n",
            "\u001b[K     |████████████████████████████████| 235kB 3.9MB/s \n",
            "\u001b[?25hRequirement already satisfied: scipy>=1.0 in /usr/local/lib/python3.7/dist-packages (from skl2onnx) (1.4.1)\n",
            "Requirement already satisfied: protobuf in /usr/local/lib/python3.7/dist-packages (from skl2onnx) (3.12.4)\n",
            "Requirement already satisfied: scikit-learn>=0.19 in /usr/local/lib/python3.7/dist-packages (from skl2onnx) (0.22.2.post1)\n",
            "Collecting onnxconverter-common<1.9,>=1.6.1\n",
            "\u001b[?25l  Downloading https://files.pythonhosted.org/packages/42/f5/82c29029a643dd4de8e0374fe2d5831f50ca58623dd1ee41e0b8df8a7d71/onnxconverter_common-1.8.1-py2.py3-none-any.whl (77kB)\n",
            "\u001b[K     |████████████████████████████████| 81kB 7.5MB/s \n",
            "\u001b[?25hRequirement already satisfied: six in /usr/local/lib/python3.7/dist-packages (from skl2onnx) (1.15.0)\n",
            "Requirement already satisfied: onnx>=1.2.1 in /usr/local/lib/python3.7/dist-packages (from skl2onnx) (1.9.0)\n",
            "Requirement already satisfied: numpy>=1.15 in /usr/local/lib/python3.7/dist-packages (from skl2onnx) (1.19.5)\n",
            "Requirement already satisfied: setuptools in /usr/local/lib/python3.7/dist-packages (from protobuf->skl2onnx) (56.1.0)\n",
            "Requirement already satisfied: joblib>=0.11 in /usr/local/lib/python3.7/dist-packages (from scikit-learn>=0.19->skl2onnx) (1.0.1)\n",
            "Requirement already satisfied: typing-extensions>=3.6.2.1 in /usr/local/lib/python3.7/dist-packages (from onnx>=1.2.1->skl2onnx) (3.7.4.3)\n",
            "Installing collected packages: onnxconverter-common, skl2onnx\n",
            "Successfully installed onnxconverter-common-1.8.1 skl2onnx-1.8.0\n",
            "Collecting onnxruntime\n",
            "\u001b[?25l  Downloading https://files.pythonhosted.org/packages/0c/f0/666d6e3ceaa276a54e728f9972732e058544cbb6a3e1a778a8d6f87132c1/onnxruntime-1.7.0-cp37-cp37m-manylinux2014_x86_64.whl (4.1MB)\n",
            "\u001b[K     |████████████████████████████████| 4.1MB 4.0MB/s \n",
            "\u001b[?25hRequirement already satisfied: numpy>=1.16.6 in /usr/local/lib/python3.7/dist-packages (from onnxruntime) (1.19.5)\n",
            "Requirement already satisfied: protobuf in /usr/local/lib/python3.7/dist-packages (from onnxruntime) (3.12.4)\n",
            "Requirement already satisfied: six>=1.9 in /usr/local/lib/python3.7/dist-packages (from protobuf->onnxruntime) (1.15.0)\n",
            "Requirement already satisfied: setuptools in /usr/local/lib/python3.7/dist-packages (from protobuf->onnxruntime) (56.1.0)\n",
            "Installing collected packages: onnxruntime\n",
            "Successfully installed onnxruntime-1.7.0\n",
            "Requirement already satisfied: opencv-python in /usr/local/lib/python3.7/dist-packages (4.1.2.30)\n",
            "Requirement already satisfied: numpy>=1.14.5 in /usr/local/lib/python3.7/dist-packages (from opencv-python) (1.19.5)\n"
          ],
          "name": "stdout"
        }
      ]
    },
    {
      "cell_type": "code",
      "metadata": {
        "id": "G0IZiT9Tz4Kg"
      },
      "source": [
        "import cv2\n",
        "!mkdir video_data"
      ],
      "execution_count": 51,
      "outputs": []
    },
    {
      "cell_type": "code",
      "metadata": {
        "colab": {
          "base_uri": "https://localhost:8080/"
        },
        "id": "pfYJ1RbzDLAw",
        "outputId": "008817de-fdbd-464e-8be9-79c9f45a0bba"
      },
      "source": [
        "!wget -c https://www.sample-videos.com/video123/mp4/720/big_buck_bunny_720p_5mb.mp4 -O video.mp4"
      ],
      "execution_count": 47,
      "outputs": [
        {
          "output_type": "stream",
          "text": [
            "--2021-05-24 15:45:29--  https://www.sample-videos.com/video123/mp4/720/big_buck_bunny_720p_5mb.mp4\n",
            "Resolving www.sample-videos.com (www.sample-videos.com)... 103.145.51.95\n",
            "Connecting to www.sample-videos.com (www.sample-videos.com)|103.145.51.95|:443... connected.\n",
            "ERROR: no certificate subject alternative name matches\n",
            "\trequested host name ‘www.sample-videos.com’.\n",
            "To connect to www.sample-videos.com insecurely, use `--no-check-certificate'.\n"
          ],
          "name": "stdout"
        }
      ]
    },
    {
      "cell_type": "code",
      "metadata": {
        "colab": {
          "base_uri": "https://localhost:8080/"
        },
        "id": "XlCZTyNRFK3W",
        "outputId": "13c01b3d-065a-465e-e9ab-4ce7e01b117d"
      },
      "source": [
        "import cv2\n",
        "vidcap = cv2.VideoCapture('tst_1.mp4')\n",
        "success, image = vidcap.read()\n",
        "count = 1\n",
        "while success:\n",
        "  cv2.imwrite(\"video_data/image_%d.jpg\" % count, image)    \n",
        "  success, image = vidcap.read()\n",
        "  # print('Saved image ', count)\n",
        "  c, p, s = postprocess(list(backend.run_model(model, [preprocess(\"video_data/image_%d.jpg\" % count)])))\n",
        "  print(\"video_data/image_%d.jpg\" % count, rev_dict[c[0]])\n",
        "  # print(c,p)\n",
        "  count += 1\n",
        "  if count > 100:\n",
        "    break\n",
        "\n"
      ],
      "execution_count": null,
      "outputs": [
        {
          "output_type": "stream",
          "text": [
            "WARNING:tensorflow:11 out of the last 11 calls to <function BackendTFModule.__call__ at 0x7f2ef5bd0ef0> triggered tf.function retracing. Tracing is expensive and the excessive number of tracings could be due to (1) creating @tf.function repeatedly in a loop, (2) passing tensors with different shapes, (3) passing Python objects instead of tensors. For (1), please define your @tf.function outside of the loop. For (2), @tf.function has experimental_relax_shapes=True option that relaxes argument shapes that can avoid unnecessary retracing. For (3), please refer to https://www.tensorflow.org/guide/function#controlling_retracing and https://www.tensorflow.org/api_docs/python/tf/function for  more details.\n",
            "video_data/image_1.jpg neutral\n",
            "WARNING:tensorflow:11 out of the last 11 calls to <function BackendTFModule.__call__ at 0x7f2ef5bcf170> triggered tf.function retracing. Tracing is expensive and the excessive number of tracings could be due to (1) creating @tf.function repeatedly in a loop, (2) passing tensors with different shapes, (3) passing Python objects instead of tensors. For (1), please define your @tf.function outside of the loop. For (2), @tf.function has experimental_relax_shapes=True option that relaxes argument shapes that can avoid unnecessary retracing. For (3), please refer to https://www.tensorflow.org/guide/function#controlling_retracing and https://www.tensorflow.org/api_docs/python/tf/function for  more details.\n",
            "video_data/image_2.jpg neutral\n",
            "WARNING:tensorflow:11 out of the last 11 calls to <function BackendTFModule.__call__ at 0x7f2eea9ffdd0> triggered tf.function retracing. Tracing is expensive and the excessive number of tracings could be due to (1) creating @tf.function repeatedly in a loop, (2) passing tensors with different shapes, (3) passing Python objects instead of tensors. For (1), please define your @tf.function outside of the loop. For (2), @tf.function has experimental_relax_shapes=True option that relaxes argument shapes that can avoid unnecessary retracing. For (3), please refer to https://www.tensorflow.org/guide/function#controlling_retracing and https://www.tensorflow.org/api_docs/python/tf/function for  more details.\n",
            "video_data/image_3.jpg neutral\n",
            "WARNING:tensorflow:11 out of the last 11 calls to <function BackendTFModule.__call__ at 0x7f2ef5bd0200> triggered tf.function retracing. Tracing is expensive and the excessive number of tracings could be due to (1) creating @tf.function repeatedly in a loop, (2) passing tensors with different shapes, (3) passing Python objects instead of tensors. For (1), please define your @tf.function outside of the loop. For (2), @tf.function has experimental_relax_shapes=True option that relaxes argument shapes that can avoid unnecessary retracing. For (3), please refer to https://www.tensorflow.org/guide/function#controlling_retracing and https://www.tensorflow.org/api_docs/python/tf/function for  more details.\n",
            "video_data/image_4.jpg neutral\n",
            "WARNING:tensorflow:11 out of the last 11 calls to <function BackendTFModule.__call__ at 0x7f2eea9ffc20> triggered tf.function retracing. Tracing is expensive and the excessive number of tracings could be due to (1) creating @tf.function repeatedly in a loop, (2) passing tensors with different shapes, (3) passing Python objects instead of tensors. For (1), please define your @tf.function outside of the loop. For (2), @tf.function has experimental_relax_shapes=True option that relaxes argument shapes that can avoid unnecessary retracing. For (3), please refer to https://www.tensorflow.org/guide/function#controlling_retracing and https://www.tensorflow.org/api_docs/python/tf/function for  more details.\n",
            "video_data/image_5.jpg neutral\n",
            "WARNING:tensorflow:11 out of the last 11 calls to <function BackendTFModule.__call__ at 0x7f2eea9ffc20> triggered tf.function retracing. Tracing is expensive and the excessive number of tracings could be due to (1) creating @tf.function repeatedly in a loop, (2) passing tensors with different shapes, (3) passing Python objects instead of tensors. For (1), please define your @tf.function outside of the loop. For (2), @tf.function has experimental_relax_shapes=True option that relaxes argument shapes that can avoid unnecessary retracing. For (3), please refer to https://www.tensorflow.org/guide/function#controlling_retracing and https://www.tensorflow.org/api_docs/python/tf/function for  more details.\n",
            "video_data/image_6.jpg neutral\n",
            "WARNING:tensorflow:11 out of the last 11 calls to <function BackendTFModule.__call__ at 0x7f2ef5bd00e0> triggered tf.function retracing. Tracing is expensive and the excessive number of tracings could be due to (1) creating @tf.function repeatedly in a loop, (2) passing tensors with different shapes, (3) passing Python objects instead of tensors. For (1), please define your @tf.function outside of the loop. For (2), @tf.function has experimental_relax_shapes=True option that relaxes argument shapes that can avoid unnecessary retracing. For (3), please refer to https://www.tensorflow.org/guide/function#controlling_retracing and https://www.tensorflow.org/api_docs/python/tf/function for  more details.\n",
            "video_data/image_7.jpg neutral\n",
            "WARNING:tensorflow:11 out of the last 11 calls to <function BackendTFModule.__call__ at 0x7f2ef5bd0440> triggered tf.function retracing. Tracing is expensive and the excessive number of tracings could be due to (1) creating @tf.function repeatedly in a loop, (2) passing tensors with different shapes, (3) passing Python objects instead of tensors. For (1), please define your @tf.function outside of the loop. For (2), @tf.function has experimental_relax_shapes=True option that relaxes argument shapes that can avoid unnecessary retracing. For (3), please refer to https://www.tensorflow.org/guide/function#controlling_retracing and https://www.tensorflow.org/api_docs/python/tf/function for  more details.\n",
            "video_data/image_8.jpg neutral\n",
            "WARNING:tensorflow:11 out of the last 11 calls to <function BackendTFModule.__call__ at 0x7f2eea9ffef0> triggered tf.function retracing. Tracing is expensive and the excessive number of tracings could be due to (1) creating @tf.function repeatedly in a loop, (2) passing tensors with different shapes, (3) passing Python objects instead of tensors. For (1), please define your @tf.function outside of the loop. For (2), @tf.function has experimental_relax_shapes=True option that relaxes argument shapes that can avoid unnecessary retracing. For (3), please refer to https://www.tensorflow.org/guide/function#controlling_retracing and https://www.tensorflow.org/api_docs/python/tf/function for  more details.\n",
            "video_data/image_9.jpg neutral\n",
            "WARNING:tensorflow:11 out of the last 11 calls to <function BackendTFModule.__call__ at 0x7f2eea9ff560> triggered tf.function retracing. Tracing is expensive and the excessive number of tracings could be due to (1) creating @tf.function repeatedly in a loop, (2) passing tensors with different shapes, (3) passing Python objects instead of tensors. For (1), please define your @tf.function outside of the loop. For (2), @tf.function has experimental_relax_shapes=True option that relaxes argument shapes that can avoid unnecessary retracing. For (3), please refer to https://www.tensorflow.org/guide/function#controlling_retracing and https://www.tensorflow.org/api_docs/python/tf/function for  more details.\n",
            "video_data/image_10.jpg neutral\n",
            "WARNING:tensorflow:11 out of the last 11 calls to <function BackendTFModule.__call__ at 0x7f2eea9ffcb0> triggered tf.function retracing. Tracing is expensive and the excessive number of tracings could be due to (1) creating @tf.function repeatedly in a loop, (2) passing tensors with different shapes, (3) passing Python objects instead of tensors. For (1), please define your @tf.function outside of the loop. For (2), @tf.function has experimental_relax_shapes=True option that relaxes argument shapes that can avoid unnecessary retracing. For (3), please refer to https://www.tensorflow.org/guide/function#controlling_retracing and https://www.tensorflow.org/api_docs/python/tf/function for  more details.\n",
            "video_data/image_11.jpg happiness\n",
            "WARNING:tensorflow:11 out of the last 11 calls to <function BackendTFModule.__call__ at 0x7f2eea9ffcb0> triggered tf.function retracing. Tracing is expensive and the excessive number of tracings could be due to (1) creating @tf.function repeatedly in a loop, (2) passing tensors with different shapes, (3) passing Python objects instead of tensors. For (1), please define your @tf.function outside of the loop. For (2), @tf.function has experimental_relax_shapes=True option that relaxes argument shapes that can avoid unnecessary retracing. For (3), please refer to https://www.tensorflow.org/guide/function#controlling_retracing and https://www.tensorflow.org/api_docs/python/tf/function for  more details.\n",
            "video_data/image_12.jpg happiness\n",
            "WARNING:tensorflow:11 out of the last 11 calls to <function BackendTFModule.__call__ at 0x7f2ef5bd00e0> triggered tf.function retracing. Tracing is expensive and the excessive number of tracings could be due to (1) creating @tf.function repeatedly in a loop, (2) passing tensors with different shapes, (3) passing Python objects instead of tensors. For (1), please define your @tf.function outside of the loop. For (2), @tf.function has experimental_relax_shapes=True option that relaxes argument shapes that can avoid unnecessary retracing. For (3), please refer to https://www.tensorflow.org/guide/function#controlling_retracing and https://www.tensorflow.org/api_docs/python/tf/function for  more details.\n",
            "video_data/image_13.jpg happiness\n",
            "WARNING:tensorflow:11 out of the last 11 calls to <function BackendTFModule.__call__ at 0x7f2eea9ffe60> triggered tf.function retracing. Tracing is expensive and the excessive number of tracings could be due to (1) creating @tf.function repeatedly in a loop, (2) passing tensors with different shapes, (3) passing Python objects instead of tensors. For (1), please define your @tf.function outside of the loop. For (2), @tf.function has experimental_relax_shapes=True option that relaxes argument shapes that can avoid unnecessary retracing. For (3), please refer to https://www.tensorflow.org/guide/function#controlling_retracing and https://www.tensorflow.org/api_docs/python/tf/function for  more details.\n",
            "video_data/image_14.jpg happiness\n",
            "WARNING:tensorflow:11 out of the last 11 calls to <function BackendTFModule.__call__ at 0x7f2ef5bd0a70> triggered tf.function retracing. Tracing is expensive and the excessive number of tracings could be due to (1) creating @tf.function repeatedly in a loop, (2) passing tensors with different shapes, (3) passing Python objects instead of tensors. For (1), please define your @tf.function outside of the loop. For (2), @tf.function has experimental_relax_shapes=True option that relaxes argument shapes that can avoid unnecessary retracing. For (3), please refer to https://www.tensorflow.org/guide/function#controlling_retracing and https://www.tensorflow.org/api_docs/python/tf/function for  more details.\n",
            "video_data/image_15.jpg happiness\n",
            "WARNING:tensorflow:11 out of the last 11 calls to <function BackendTFModule.__call__ at 0x7f2ef5bd0e60> triggered tf.function retracing. Tracing is expensive and the excessive number of tracings could be due to (1) creating @tf.function repeatedly in a loop, (2) passing tensors with different shapes, (3) passing Python objects instead of tensors. For (1), please define your @tf.function outside of the loop. For (2), @tf.function has experimental_relax_shapes=True option that relaxes argument shapes that can avoid unnecessary retracing. For (3), please refer to https://www.tensorflow.org/guide/function#controlling_retracing and https://www.tensorflow.org/api_docs/python/tf/function for  more details.\n",
            "video_data/image_16.jpg neutral\n",
            "WARNING:tensorflow:11 out of the last 11 calls to <function BackendTFModule.__call__ at 0x7f2ef5bd0680> triggered tf.function retracing. Tracing is expensive and the excessive number of tracings could be due to (1) creating @tf.function repeatedly in a loop, (2) passing tensors with different shapes, (3) passing Python objects instead of tensors. For (1), please define your @tf.function outside of the loop. For (2), @tf.function has experimental_relax_shapes=True option that relaxes argument shapes that can avoid unnecessary retracing. For (3), please refer to https://www.tensorflow.org/guide/function#controlling_retracing and https://www.tensorflow.org/api_docs/python/tf/function for  more details.\n",
            "video_data/image_17.jpg neutral\n",
            "WARNING:tensorflow:11 out of the last 11 calls to <function BackendTFModule.__call__ at 0x7f2ef5bd0170> triggered tf.function retracing. Tracing is expensive and the excessive number of tracings could be due to (1) creating @tf.function repeatedly in a loop, (2) passing tensors with different shapes, (3) passing Python objects instead of tensors. For (1), please define your @tf.function outside of the loop. For (2), @tf.function has experimental_relax_shapes=True option that relaxes argument shapes that can avoid unnecessary retracing. For (3), please refer to https://www.tensorflow.org/guide/function#controlling_retracing and https://www.tensorflow.org/api_docs/python/tf/function for  more details.\n",
            "video_data/image_18.jpg happiness\n",
            "WARNING:tensorflow:11 out of the last 11 calls to <function BackendTFModule.__call__ at 0x7f2ef5bd0710> triggered tf.function retracing. Tracing is expensive and the excessive number of tracings could be due to (1) creating @tf.function repeatedly in a loop, (2) passing tensors with different shapes, (3) passing Python objects instead of tensors. For (1), please define your @tf.function outside of the loop. For (2), @tf.function has experimental_relax_shapes=True option that relaxes argument shapes that can avoid unnecessary retracing. For (3), please refer to https://www.tensorflow.org/guide/function#controlling_retracing and https://www.tensorflow.org/api_docs/python/tf/function for  more details.\n",
            "video_data/image_19.jpg happiness\n",
            "WARNING:tensorflow:11 out of the last 11 calls to <function BackendTFModule.__call__ at 0x7f2ef5bd0440> triggered tf.function retracing. Tracing is expensive and the excessive number of tracings could be due to (1) creating @tf.function repeatedly in a loop, (2) passing tensors with different shapes, (3) passing Python objects instead of tensors. For (1), please define your @tf.function outside of the loop. For (2), @tf.function has experimental_relax_shapes=True option that relaxes argument shapes that can avoid unnecessary retracing. For (3), please refer to https://www.tensorflow.org/guide/function#controlling_retracing and https://www.tensorflow.org/api_docs/python/tf/function for  more details.\n",
            "video_data/image_20.jpg neutral\n",
            "WARNING:tensorflow:11 out of the last 11 calls to <function BackendTFModule.__call__ at 0x7f2ef5bd0680> triggered tf.function retracing. Tracing is expensive and the excessive number of tracings could be due to (1) creating @tf.function repeatedly in a loop, (2) passing tensors with different shapes, (3) passing Python objects instead of tensors. For (1), please define your @tf.function outside of the loop. For (2), @tf.function has experimental_relax_shapes=True option that relaxes argument shapes that can avoid unnecessary retracing. For (3), please refer to https://www.tensorflow.org/guide/function#controlling_retracing and https://www.tensorflow.org/api_docs/python/tf/function for  more details.\n",
            "video_data/image_21.jpg neutral\n",
            "WARNING:tensorflow:11 out of the last 11 calls to <function BackendTFModule.__call__ at 0x7f2ef5bd07a0> triggered tf.function retracing. Tracing is expensive and the excessive number of tracings could be due to (1) creating @tf.function repeatedly in a loop, (2) passing tensors with different shapes, (3) passing Python objects instead of tensors. For (1), please define your @tf.function outside of the loop. For (2), @tf.function has experimental_relax_shapes=True option that relaxes argument shapes that can avoid unnecessary retracing. For (3), please refer to https://www.tensorflow.org/guide/function#controlling_retracing and https://www.tensorflow.org/api_docs/python/tf/function for  more details.\n",
            "video_data/image_22.jpg neutral\n",
            "WARNING:tensorflow:11 out of the last 11 calls to <function BackendTFModule.__call__ at 0x7f2ef5bd0680> triggered tf.function retracing. Tracing is expensive and the excessive number of tracings could be due to (1) creating @tf.function repeatedly in a loop, (2) passing tensors with different shapes, (3) passing Python objects instead of tensors. For (1), please define your @tf.function outside of the loop. For (2), @tf.function has experimental_relax_shapes=True option that relaxes argument shapes that can avoid unnecessary retracing. For (3), please refer to https://www.tensorflow.org/guide/function#controlling_retracing and https://www.tensorflow.org/api_docs/python/tf/function for  more details.\n",
            "video_data/image_23.jpg neutral\n",
            "WARNING:tensorflow:11 out of the last 11 calls to <function BackendTFModule.__call__ at 0x7f2ef5bd0170> triggered tf.function retracing. Tracing is expensive and the excessive number of tracings could be due to (1) creating @tf.function repeatedly in a loop, (2) passing tensors with different shapes, (3) passing Python objects instead of tensors. For (1), please define your @tf.function outside of the loop. For (2), @tf.function has experimental_relax_shapes=True option that relaxes argument shapes that can avoid unnecessary retracing. For (3), please refer to https://www.tensorflow.org/guide/function#controlling_retracing and https://www.tensorflow.org/api_docs/python/tf/function for  more details.\n",
            "video_data/image_24.jpg neutral\n",
            "WARNING:tensorflow:11 out of the last 11 calls to <function BackendTFModule.__call__ at 0x7f2ef5bd0710> triggered tf.function retracing. Tracing is expensive and the excessive number of tracings could be due to (1) creating @tf.function repeatedly in a loop, (2) passing tensors with different shapes, (3) passing Python objects instead of tensors. For (1), please define your @tf.function outside of the loop. For (2), @tf.function has experimental_relax_shapes=True option that relaxes argument shapes that can avoid unnecessary retracing. For (3), please refer to https://www.tensorflow.org/guide/function#controlling_retracing and https://www.tensorflow.org/api_docs/python/tf/function for  more details.\n",
            "video_data/image_25.jpg neutral\n",
            "WARNING:tensorflow:11 out of the last 11 calls to <function BackendTFModule.__call__ at 0x7f2ef5bd0dd0> triggered tf.function retracing. Tracing is expensive and the excessive number of tracings could be due to (1) creating @tf.function repeatedly in a loop, (2) passing tensors with different shapes, (3) passing Python objects instead of tensors. For (1), please define your @tf.function outside of the loop. For (2), @tf.function has experimental_relax_shapes=True option that relaxes argument shapes that can avoid unnecessary retracing. For (3), please refer to https://www.tensorflow.org/guide/function#controlling_retracing and https://www.tensorflow.org/api_docs/python/tf/function for  more details.\n",
            "video_data/image_26.jpg neutral\n",
            "WARNING:tensorflow:11 out of the last 11 calls to <function BackendTFModule.__call__ at 0x7f2ef5bd0320> triggered tf.function retracing. Tracing is expensive and the excessive number of tracings could be due to (1) creating @tf.function repeatedly in a loop, (2) passing tensors with different shapes, (3) passing Python objects instead of tensors. For (1), please define your @tf.function outside of the loop. For (2), @tf.function has experimental_relax_shapes=True option that relaxes argument shapes that can avoid unnecessary retracing. For (3), please refer to https://www.tensorflow.org/guide/function#controlling_retracing and https://www.tensorflow.org/api_docs/python/tf/function for  more details.\n",
            "video_data/image_27.jpg neutral\n",
            "WARNING:tensorflow:11 out of the last 11 calls to <function BackendTFModule.__call__ at 0x7f2ef5bd0dd0> triggered tf.function retracing. Tracing is expensive and the excessive number of tracings could be due to (1) creating @tf.function repeatedly in a loop, (2) passing tensors with different shapes, (3) passing Python objects instead of tensors. For (1), please define your @tf.function outside of the loop. For (2), @tf.function has experimental_relax_shapes=True option that relaxes argument shapes that can avoid unnecessary retracing. For (3), please refer to https://www.tensorflow.org/guide/function#controlling_retracing and https://www.tensorflow.org/api_docs/python/tf/function for  more details.\n",
            "video_data/image_28.jpg neutral\n",
            "WARNING:tensorflow:11 out of the last 11 calls to <function BackendTFModule.__call__ at 0x7f2ef5bd00e0> triggered tf.function retracing. Tracing is expensive and the excessive number of tracings could be due to (1) creating @tf.function repeatedly in a loop, (2) passing tensors with different shapes, (3) passing Python objects instead of tensors. For (1), please define your @tf.function outside of the loop. For (2), @tf.function has experimental_relax_shapes=True option that relaxes argument shapes that can avoid unnecessary retracing. For (3), please refer to https://www.tensorflow.org/guide/function#controlling_retracing and https://www.tensorflow.org/api_docs/python/tf/function for  more details.\n",
            "video_data/image_29.jpg neutral\n",
            "WARNING:tensorflow:11 out of the last 11 calls to <function BackendTFModule.__call__ at 0x7f2ef5bd0cb0> triggered tf.function retracing. Tracing is expensive and the excessive number of tracings could be due to (1) creating @tf.function repeatedly in a loop, (2) passing tensors with different shapes, (3) passing Python objects instead of tensors. For (1), please define your @tf.function outside of the loop. For (2), @tf.function has experimental_relax_shapes=True option that relaxes argument shapes that can avoid unnecessary retracing. For (3), please refer to https://www.tensorflow.org/guide/function#controlling_retracing and https://www.tensorflow.org/api_docs/python/tf/function for  more details.\n",
            "video_data/image_30.jpg neutral\n",
            "WARNING:tensorflow:11 out of the last 11 calls to <function BackendTFModule.__call__ at 0x7f2ef5bd00e0> triggered tf.function retracing. Tracing is expensive and the excessive number of tracings could be due to (1) creating @tf.function repeatedly in a loop, (2) passing tensors with different shapes, (3) passing Python objects instead of tensors. For (1), please define your @tf.function outside of the loop. For (2), @tf.function has experimental_relax_shapes=True option that relaxes argument shapes that can avoid unnecessary retracing. For (3), please refer to https://www.tensorflow.org/guide/function#controlling_retracing and https://www.tensorflow.org/api_docs/python/tf/function for  more details.\n",
            "video_data/image_31.jpg neutral\n",
            "WARNING:tensorflow:11 out of the last 11 calls to <function BackendTFModule.__call__ at 0x7f2ef5bd0cb0> triggered tf.function retracing. Tracing is expensive and the excessive number of tracings could be due to (1) creating @tf.function repeatedly in a loop, (2) passing tensors with different shapes, (3) passing Python objects instead of tensors. For (1), please define your @tf.function outside of the loop. For (2), @tf.function has experimental_relax_shapes=True option that relaxes argument shapes that can avoid unnecessary retracing. For (3), please refer to https://www.tensorflow.org/guide/function#controlling_retracing and https://www.tensorflow.org/api_docs/python/tf/function for  more details.\n",
            "video_data/image_32.jpg neutral\n",
            "WARNING:tensorflow:11 out of the last 11 calls to <function BackendTFModule.__call__ at 0x7f2ef5bd00e0> triggered tf.function retracing. Tracing is expensive and the excessive number of tracings could be due to (1) creating @tf.function repeatedly in a loop, (2) passing tensors with different shapes, (3) passing Python objects instead of tensors. For (1), please define your @tf.function outside of the loop. For (2), @tf.function has experimental_relax_shapes=True option that relaxes argument shapes that can avoid unnecessary retracing. For (3), please refer to https://www.tensorflow.org/guide/function#controlling_retracing and https://www.tensorflow.org/api_docs/python/tf/function for  more details.\n",
            "video_data/image_33.jpg neutral\n",
            "WARNING:tensorflow:11 out of the last 11 calls to <function BackendTFModule.__call__ at 0x7f2ef5bd0320> triggered tf.function retracing. Tracing is expensive and the excessive number of tracings could be due to (1) creating @tf.function repeatedly in a loop, (2) passing tensors with different shapes, (3) passing Python objects instead of tensors. For (1), please define your @tf.function outside of the loop. For (2), @tf.function has experimental_relax_shapes=True option that relaxes argument shapes that can avoid unnecessary retracing. For (3), please refer to https://www.tensorflow.org/guide/function#controlling_retracing and https://www.tensorflow.org/api_docs/python/tf/function for  more details.\n",
            "video_data/image_34.jpg neutral\n",
            "WARNING:tensorflow:11 out of the last 11 calls to <function BackendTFModule.__call__ at 0x7f2ef5bd0320> triggered tf.function retracing. Tracing is expensive and the excessive number of tracings could be due to (1) creating @tf.function repeatedly in a loop, (2) passing tensors with different shapes, (3) passing Python objects instead of tensors. For (1), please define your @tf.function outside of the loop. For (2), @tf.function has experimental_relax_shapes=True option that relaxes argument shapes that can avoid unnecessary retracing. For (3), please refer to https://www.tensorflow.org/guide/function#controlling_retracing and https://www.tensorflow.org/api_docs/python/tf/function for  more details.\n",
            "video_data/image_35.jpg neutral\n",
            "WARNING:tensorflow:11 out of the last 11 calls to <function BackendTFModule.__call__ at 0x7f2ee9e54320> triggered tf.function retracing. Tracing is expensive and the excessive number of tracings could be due to (1) creating @tf.function repeatedly in a loop, (2) passing tensors with different shapes, (3) passing Python objects instead of tensors. For (1), please define your @tf.function outside of the loop. For (2), @tf.function has experimental_relax_shapes=True option that relaxes argument shapes that can avoid unnecessary retracing. For (3), please refer to https://www.tensorflow.org/guide/function#controlling_retracing and https://www.tensorflow.org/api_docs/python/tf/function for  more details.\n",
            "video_data/image_36.jpg neutral\n",
            "WARNING:tensorflow:11 out of the last 11 calls to <function BackendTFModule.__call__ at 0x7f2ee9e54ef0> triggered tf.function retracing. Tracing is expensive and the excessive number of tracings could be due to (1) creating @tf.function repeatedly in a loop, (2) passing tensors with different shapes, (3) passing Python objects instead of tensors. For (1), please define your @tf.function outside of the loop. For (2), @tf.function has experimental_relax_shapes=True option that relaxes argument shapes that can avoid unnecessary retracing. For (3), please refer to https://www.tensorflow.org/guide/function#controlling_retracing and https://www.tensorflow.org/api_docs/python/tf/function for  more details.\n",
            "video_data/image_37.jpg neutral\n",
            "WARNING:tensorflow:11 out of the last 11 calls to <function BackendTFModule.__call__ at 0x7f2ee9e54680> triggered tf.function retracing. Tracing is expensive and the excessive number of tracings could be due to (1) creating @tf.function repeatedly in a loop, (2) passing tensors with different shapes, (3) passing Python objects instead of tensors. For (1), please define your @tf.function outside of the loop. For (2), @tf.function has experimental_relax_shapes=True option that relaxes argument shapes that can avoid unnecessary retracing. For (3), please refer to https://www.tensorflow.org/guide/function#controlling_retracing and https://www.tensorflow.org/api_docs/python/tf/function for  more details.\n",
            "video_data/image_38.jpg neutral\n",
            "WARNING:tensorflow:11 out of the last 11 calls to <function BackendTFModule.__call__ at 0x7f2ee9e54560> triggered tf.function retracing. Tracing is expensive and the excessive number of tracings could be due to (1) creating @tf.function repeatedly in a loop, (2) passing tensors with different shapes, (3) passing Python objects instead of tensors. For (1), please define your @tf.function outside of the loop. For (2), @tf.function has experimental_relax_shapes=True option that relaxes argument shapes that can avoid unnecessary retracing. For (3), please refer to https://www.tensorflow.org/guide/function#controlling_retracing and https://www.tensorflow.org/api_docs/python/tf/function for  more details.\n",
            "video_data/image_39.jpg neutral\n",
            "WARNING:tensorflow:11 out of the last 11 calls to <function BackendTFModule.__call__ at 0x7f2ee9e544d0> triggered tf.function retracing. Tracing is expensive and the excessive number of tracings could be due to (1) creating @tf.function repeatedly in a loop, (2) passing tensors with different shapes, (3) passing Python objects instead of tensors. For (1), please define your @tf.function outside of the loop. For (2), @tf.function has experimental_relax_shapes=True option that relaxes argument shapes that can avoid unnecessary retracing. For (3), please refer to https://www.tensorflow.org/guide/function#controlling_retracing and https://www.tensorflow.org/api_docs/python/tf/function for  more details.\n",
            "video_data/image_40.jpg neutral\n",
            "WARNING:tensorflow:11 out of the last 11 calls to <function BackendTFModule.__call__ at 0x7f2ee9e549e0> triggered tf.function retracing. Tracing is expensive and the excessive number of tracings could be due to (1) creating @tf.function repeatedly in a loop, (2) passing tensors with different shapes, (3) passing Python objects instead of tensors. For (1), please define your @tf.function outside of the loop. For (2), @tf.function has experimental_relax_shapes=True option that relaxes argument shapes that can avoid unnecessary retracing. For (3), please refer to https://www.tensorflow.org/guide/function#controlling_retracing and https://www.tensorflow.org/api_docs/python/tf/function for  more details.\n",
            "video_data/image_41.jpg neutral\n",
            "WARNING:tensorflow:11 out of the last 11 calls to <function BackendTFModule.__call__ at 0x7f2ee9e54680> triggered tf.function retracing. Tracing is expensive and the excessive number of tracings could be due to (1) creating @tf.function repeatedly in a loop, (2) passing tensors with different shapes, (3) passing Python objects instead of tensors. For (1), please define your @tf.function outside of the loop. For (2), @tf.function has experimental_relax_shapes=True option that relaxes argument shapes that can avoid unnecessary retracing. For (3), please refer to https://www.tensorflow.org/guide/function#controlling_retracing and https://www.tensorflow.org/api_docs/python/tf/function for  more details.\n",
            "video_data/image_42.jpg neutral\n"
          ],
          "name": "stdout"
        }
      ]
    },
    {
      "cell_type": "code",
      "metadata": {
        "colab": {
          "base_uri": "https://localhost:8080/"
        },
        "id": "q6hi7CZlEReR",
        "outputId": "34c86b41-ce9f-43da-8b62-1d9464053f69"
      },
      "source": [
        "! pip install pytube"
      ],
      "execution_count": 55,
      "outputs": [
        {
          "output_type": "stream",
          "text": [
            "Collecting pytube\n",
            "\u001b[?25l  Downloading https://files.pythonhosted.org/packages/28/bd/30f8e4bfd3a497e820bf6fc59b6f76152e9538b8806621fdf3ec3f79150f/pytube-10.8.2-py3-none-any.whl (46kB)\n",
            "\r\u001b[K     |███████                         | 10kB 16.2MB/s eta 0:00:01\r\u001b[K     |██████████████▏                 | 20kB 9.4MB/s eta 0:00:01\r\u001b[K     |█████████████████████▎          | 30kB 5.9MB/s eta 0:00:01\r\u001b[K     |████████████████████████████▍   | 40kB 5.4MB/s eta 0:00:01\r\u001b[K     |████████████████████████████████| 51kB 2.0MB/s \n",
            "\u001b[?25hInstalling collected packages: pytube\n",
            "Successfully installed pytube-10.8.2\n"
          ],
          "name": "stdout"
        }
      ]
    },
    {
      "cell_type": "code",
      "metadata": {
        "colab": {
          "base_uri": "https://localhost:8080/"
        },
        "id": "Af1APEpaIord",
        "outputId": "4ad3fbe3-1aa7-4c82-ce7f-e9925a656777"
      },
      "source": [
        "# importing the module\n",
        "from pytube import YouTube\n",
        "\n",
        "# where to save\n",
        "# SAVE_PATH = \"\" #to_do\n",
        "\n",
        "# link of the video to be downloaded\n",
        "link=\"https://youtu.be/AKKUAMHxDZ8\"\n",
        "\n",
        "try:\n",
        "  # object creation using YouTube\n",
        "  # which was imported in the beginning\n",
        "  yt = YouTube(link)\n",
        "except:\n",
        "  print(\"Connection Error\") #to handle exception\n",
        "\n",
        "# filters out all the files with \"mp4\" extension\n",
        "mp4files = yt.streams.filter(progressive=True, file_extension='mp4').order_by('resolution').desc().first()\n",
        "\n",
        "#to set the name of the file\n",
        "# yt.streams.set_filename('test_video')\n",
        "\n",
        "# get the video with the extension and\n",
        "# resolution passed in the get() function\n",
        "# d_video = yt.get(mp4files[-1].extension,mp4files[-1].resolution)\n",
        "try:\n",
        "  # downloading the video\n",
        "  mp4files.download()\n",
        "except:\n",
        "  print(\"Some Error!\")\n",
        "print('Task Completed!')\n"
      ],
      "execution_count": 59,
      "outputs": [
        {
          "output_type": "stream",
          "text": [
            "Task Completed!\n"
          ],
          "name": "stdout"
        }
      ]
    },
    {
      "cell_type": "code",
      "metadata": {
        "id": "6-S0uiS5JJXp"
      },
      "source": [
        ""
      ],
      "execution_count": null,
      "outputs": []
    }
  ]
}